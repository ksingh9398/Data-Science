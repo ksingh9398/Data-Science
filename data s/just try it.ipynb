{
 "cells": [
  {
   "cell_type": "code",
   "execution_count": 1,
   "id": "3040484d",
   "metadata": {},
   "outputs": [
    {
     "name": "stdout",
     "output_type": "stream",
     "text": [
      "hello navin singh\n"
     ]
    }
   ],
   "source": [
    "print(\"hello navin singh\")"
   ]
  },
  {
   "cell_type": "code",
   "execution_count": 2,
   "id": "224dc139",
   "metadata": {},
   "outputs": [
    {
     "name": "stdout",
     "output_type": "stream",
     "text": [
      "its ammazin your are here navin\n"
     ]
    }
   ],
   "source": [
    "print(\"its ammazin your are here navin\")"
   ]
  },
  {
   "cell_type": "code",
   "execution_count": 3,
   "id": "ee6cfdb8",
   "metadata": {},
   "outputs": [
    {
     "name": "stdout",
     "output_type": "stream",
     "text": [
      "welcome navin singh\n"
     ]
    }
   ],
   "source": [
    "hello=\"welcome navin singh\"\n",
    "print(hello)"
   ]
  },
  {
   "cell_type": "code",
   "execution_count": 5,
   "id": "98a59e1e",
   "metadata": {},
   "outputs": [
    {
     "name": "stdout",
     "output_type": "stream",
     "text": [
      "kya ker rhe ho navin singh what are you doning\n"
     ]
    }
   ],
   "source": [
    "print(\"kya ker rhe ho navin singh what are you doning\")"
   ]
  },
  {
   "cell_type": "code",
   "execution_count": 6,
   "id": "b502e79b",
   "metadata": {},
   "outputs": [
    {
     "name": "stdout",
     "output_type": "stream",
     "text": [
      "nothing\n"
     ]
    }
   ],
   "source": [
    "hello=\"nothing\"\n",
    "print(hello)"
   ]
  },
  {
   "cell_type": "code",
   "execution_count": null,
   "id": "0c70384c",
   "metadata": {},
   "outputs": [],
   "source": []
  }
 ],
 "metadata": {
  "kernelspec": {
   "display_name": "Python 3 (ipykernel)",
   "language": "python",
   "name": "python3"
  },
  "language_info": {
   "codemirror_mode": {
    "name": "ipython",
    "version": 3
   },
   "file_extension": ".py",
   "mimetype": "text/x-python",
   "name": "python",
   "nbconvert_exporter": "python",
   "pygments_lexer": "ipython3",
   "version": "3.10.9"
  }
 },
 "nbformat": 4,
 "nbformat_minor": 5
}
